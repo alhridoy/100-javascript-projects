{
 "cells": [
  {
   "cell_type": "code",
   "execution_count": 1,
   "id": "d7973c15",
   "metadata": {
    "_cell_guid": "b1076dfc-b9ad-4769-8c92-a6c4dae69d19",
    "_uuid": "8f2839f25d086af736a60e9eeb907d3b93b6e0e5",
    "execution": {
     "iopub.execute_input": "2022-05-26T18:23:57.014073Z",
     "iopub.status.busy": "2022-05-26T18:23:57.013517Z",
     "iopub.status.idle": "2022-05-26T18:23:57.037460Z",
     "shell.execute_reply": "2022-05-26T18:23:57.036335Z"
    },
    "papermill": {
     "duration": 0.067176,
     "end_time": "2022-05-26T18:23:57.039220",
     "exception": false,
     "start_time": "2022-05-26T18:23:56.972044",
     "status": "completed"
    },
    "tags": []
   },
   "outputs": [
    {
     "name": "stdout",
     "output_type": "stream",
     "text": [
      "/kaggle/input/taxitrain/taxi_final_train.csv\n",
      "/kaggle/input/clean-taxi-dataset/clean_taxi_dataset.csv\n"
     ]
    }
   ],
   "source": [
    "# This Python 3 environment comes with many helpful analytics libraries installed\n",
    "# It is defined by the kaggle/python Docker image: https://github.com/kaggle/docker-python\n",
    "# For example, here's several helpful packages to load\n",
    "\n",
    "import numpy as np # linear algebra\n",
    "import pandas as pd # data processing, CSV file I/O (e.g. pd.read_csv)\n",
    "\n",
    "# Input data files are available in the read-only \"../input/\" directory\n",
    "# For example, running this (by clicking run or pressing Shift+Enter) will list all files under the input directory\n",
    "\n",
    "import os\n",
    "for dirname, _, filenames in os.walk('/kaggle/input'):\n",
    "    for filename in filenames:\n",
    "        print(os.path.join(dirname, filename))\n",
    "\n",
    "# You can write up to 20GB to the current directory (/kaggle/working/) that gets preserved as output when you create a version using \"Save & Run All\" \n",
    "# You can also write temporary files to /kaggle/temp/, but they won't be saved outside of the current session"
   ]
  },
  {
   "cell_type": "code",
   "execution_count": 2,
   "id": "36cd65b7",
   "metadata": {
    "execution": {
     "iopub.execute_input": "2022-05-26T18:23:57.160136Z",
     "iopub.status.busy": "2022-05-26T18:23:57.159888Z",
     "iopub.status.idle": "2022-05-26T18:24:15.621729Z",
     "shell.execute_reply": "2022-05-26T18:24:15.620810Z"
    },
    "papermill": {
     "duration": 18.540022,
     "end_time": "2022-05-26T18:24:15.623504",
     "exception": false,
     "start_time": "2022-05-26T18:23:57.083482",
     "status": "completed"
    },
    "tags": []
   },
   "outputs": [
    {
     "name": "stdout",
     "output_type": "stream",
     "text": [
      "Collecting gensim==3.8.3\r\n",
      "  Downloading gensim-3.8.3-cp37-cp37m-manylinux1_x86_64.whl (24.2 MB)\r\n",
      "\u001b[2K     \u001b[90m━━━━━━━━━━━━━━━━━━━━━━━━━━━━━━━━━━━━━━━━\u001b[0m \u001b[32m24.2/24.2 MB\u001b[0m \u001b[31m22.5 MB/s\u001b[0m eta \u001b[36m0:00:00\u001b[0m\r\n",
      "\u001b[?25hRequirement already satisfied: scipy>=0.18.1 in /opt/conda/lib/python3.7/site-packages (from gensim==3.8.3) (1.7.3)\r\n",
      "Requirement already satisfied: numpy>=1.11.3 in /opt/conda/lib/python3.7/site-packages (from gensim==3.8.3) (1.21.6)\r\n",
      "Requirement already satisfied: six>=1.5.0 in /opt/conda/lib/python3.7/site-packages (from gensim==3.8.3) (1.16.0)\r\n",
      "Requirement already satisfied: smart-open>=1.8.1 in /opt/conda/lib/python3.7/site-packages (from gensim==3.8.3) (5.2.1)\r\n",
      "Installing collected packages: gensim\r\n",
      "  Attempting uninstall: gensim\r\n",
      "    Found existing installation: gensim 4.0.1\r\n",
      "    Uninstalling gensim-4.0.1:\r\n",
      "      Successfully uninstalled gensim-4.0.1\r\n",
      "\u001b[31mERROR: pip's dependency resolver does not currently take into account all the packages that are installed. This behaviour is the source of the following dependency conflicts.\r\n",
      "scattertext 0.1.6 requires gensim>=4.0.0, but you have gensim 3.8.3 which is incompatible.\u001b[0m\u001b[31m\r\n",
      "\u001b[0mSuccessfully installed gensim-3.8.3\r\n",
      "\u001b[33mWARNING: Running pip as the 'root' user can result in broken permissions and conflicting behaviour with the system package manager. It is recommended to use a virtual environment instead: https://pip.pypa.io/warnings/venv\u001b[0m\u001b[33m\r\n",
      "\u001b[0mNote: you may need to restart the kernel to use updated packages.\n"
     ]
    }
   ],
   "source": [
    "pip install gensim==3.8.3"
   ]
  },
  {
   "cell_type": "code",
   "execution_count": 3,
   "id": "66511dbd",
   "metadata": {
    "execution": {
     "iopub.execute_input": "2022-05-26T18:24:15.724492Z",
     "iopub.status.busy": "2022-05-26T18:24:15.723829Z",
     "iopub.status.idle": "2022-05-26T18:24:16.559133Z",
     "shell.execute_reply": "2022-05-26T18:24:16.558425Z"
    },
    "papermill": {
     "duration": 0.88795,
     "end_time": "2022-05-26T18:24:16.561190",
     "exception": false,
     "start_time": "2022-05-26T18:24:15.673240",
     "status": "completed"
    },
    "tags": []
   },
   "outputs": [],
   "source": [
    "from gensim.models.wrappers import FastText\n",
    "from gensim.models import Word2Vec\n",
    "from gensim.models import KeyedVectors"
   ]
  },
  {
   "cell_type": "code",
   "execution_count": 4,
   "id": "b4f25a75",
   "metadata": {
    "execution": {
     "iopub.execute_input": "2022-05-26T18:24:16.661436Z",
     "iopub.status.busy": "2022-05-26T18:24:16.661206Z",
     "iopub.status.idle": "2022-05-26T18:24:16.664844Z",
     "shell.execute_reply": "2022-05-26T18:24:16.664009Z"
    },
    "papermill": {
     "duration": 0.055871,
     "end_time": "2022-05-26T18:24:16.666620",
     "exception": false,
     "start_time": "2022-05-26T18:24:16.610749",
     "status": "completed"
    },
    "tags": []
   },
   "outputs": [],
   "source": [
    "import gensim"
   ]
  },
  {
   "cell_type": "code",
   "execution_count": 5,
   "id": "9e6ca1af",
   "metadata": {
    "execution": {
     "iopub.execute_input": "2022-05-26T18:24:16.766590Z",
     "iopub.status.busy": "2022-05-26T18:24:16.766351Z",
     "iopub.status.idle": "2022-05-26T18:24:22.144845Z",
     "shell.execute_reply": "2022-05-26T18:24:22.144118Z"
    },
    "papermill": {
     "duration": 5.431365,
     "end_time": "2022-05-26T18:24:22.147227",
     "exception": false,
     "start_time": "2022-05-26T18:24:16.715862",
     "status": "completed"
    },
    "tags": []
   },
   "outputs": [],
   "source": [
    "import warnings\n",
    "warnings.filterwarnings('ignore')\n",
    "\n",
    "from gensim.models.wrappers import FastText\n",
    "from gensim.models import Word2Vec\n",
    "from gensim.models import KeyedVectors\n",
    "\n",
    "import pandas as pd\n",
    "import numpy as np\n",
    "import h5py\n",
    "import pickle\n",
    "from sklearn.model_selection import train_test_split\n",
    "from sklearn.preprocessing import LabelEncoder\n",
    "\n",
    "from keras.preprocessing import sequence\n",
    "from tensorflow.keras import models\n",
    "from tensorflow.keras import layers\n",
    "from tensorflow.keras import activations\n",
    "from tensorflow.keras import optimizers\n",
    "from tensorflow.keras import losses\n",
    "from tensorflow.keras import metrics\n",
    "from tensorflow.keras.preprocessing.text import Tokenizer\n",
    "from tensorflow.keras.preprocessing.sequence import pad_sequences\n",
    "from tensorflow.keras.utils import to_categorical\n",
    "import keras.preprocessing.text\n",
    "from tensorflow.keras.models import load_model\n",
    "from keras.utils import np_utils\n",
    "\n",
    "import matplotlib.pyplot as plt\n",
    "%matplotlib inline"
   ]
  },
  {
   "cell_type": "code",
   "execution_count": 6,
   "id": "5361326c",
   "metadata": {
    "execution": {
     "iopub.execute_input": "2022-05-26T18:24:22.247815Z",
     "iopub.status.busy": "2022-05-26T18:24:22.247593Z",
     "iopub.status.idle": "2022-05-26T18:24:22.823272Z",
     "shell.execute_reply": "2022-05-26T18:24:22.822560Z"
    },
    "papermill": {
     "duration": 0.628298,
     "end_time": "2022-05-26T18:24:22.825631",
     "exception": false,
     "start_time": "2022-05-26T18:24:22.197333",
     "status": "completed"
    },
    "tags": []
   },
   "outputs": [],
   "source": [
    "df = pd.read_csv('../input/taxitrain/taxi_final_train.csv', encoding='utf8', dtype=object)"
   ]
  },
  {
   "cell_type": "code",
   "execution_count": 7,
   "id": "4ceac1f7",
   "metadata": {
    "execution": {
     "iopub.execute_input": "2022-05-26T18:24:22.927844Z",
     "iopub.status.busy": "2022-05-26T18:24:22.927318Z",
     "iopub.status.idle": "2022-05-26T18:24:22.972936Z",
     "shell.execute_reply": "2022-05-26T18:24:22.972258Z"
    },
    "papermill": {
     "duration": 0.098179,
     "end_time": "2022-05-26T18:24:22.974729",
     "exception": false,
     "start_time": "2022-05-26T18:24:22.876550",
     "status": "completed"
    },
    "tags": []
   },
   "outputs": [],
   "source": [
    "df = df.drop(columns=['label'])"
   ]
  },
  {
   "cell_type": "code",
   "execution_count": 8,
   "id": "e86f7f1f",
   "metadata": {
    "execution": {
     "iopub.execute_input": "2022-05-26T18:24:23.075928Z",
     "iopub.status.busy": "2022-05-26T18:24:23.075708Z",
     "iopub.status.idle": "2022-05-26T18:24:23.082311Z",
     "shell.execute_reply": "2022-05-26T18:24:23.081692Z"
    },
    "papermill": {
     "duration": 0.05951,
     "end_time": "2022-05-26T18:24:23.084570",
     "exception": false,
     "start_time": "2022-05-26T18:24:23.025060",
     "status": "completed"
    },
    "tags": []
   },
   "outputs": [
    {
     "data": {
      "text/plain": [
       "array(['f_name', 'l_name', 'gender', 'area_code', 'phone', 'city',\n",
       "       'state', 'zip', 'marital_status', 'has_child', 'salary', 'rate',\n",
       "       'single_exemp', 'married_exemp', 'child_exemp'], dtype=object)"
      ]
     },
     "execution_count": 8,
     "metadata": {},
     "output_type": "execute_result"
    }
   ],
   "source": [
    "df.columns.values"
   ]
  },
  {
   "cell_type": "code",
   "execution_count": 9,
   "id": "93caa075",
   "metadata": {
    "execution": {
     "iopub.execute_input": "2022-05-26T18:24:23.185466Z",
     "iopub.status.busy": "2022-05-26T18:24:23.184904Z",
     "iopub.status.idle": "2022-05-26T18:24:23.219082Z",
     "shell.execute_reply": "2022-05-26T18:24:23.218418Z"
    },
    "papermill": {
     "duration": 0.086563,
     "end_time": "2022-05-26T18:24:23.220801",
     "exception": false,
     "start_time": "2022-05-26T18:24:23.134238",
     "status": "completed"
    },
    "tags": []
   },
   "outputs": [],
   "source": [
    "values = []\n",
    "for i in df.columns:\n",
    "    values.append(df[i].tolist())"
   ]
  },
  {
   "cell_type": "code",
   "execution_count": 10,
   "id": "e990ca1f",
   "metadata": {
    "execution": {
     "iopub.execute_input": "2022-05-26T18:24:23.323021Z",
     "iopub.status.busy": "2022-05-26T18:24:23.322797Z",
     "iopub.status.idle": "2022-05-26T18:24:23.326242Z",
     "shell.execute_reply": "2022-05-26T18:24:23.325561Z"
    },
    "papermill": {
     "duration": 0.056046,
     "end_time": "2022-05-26T18:24:23.328059",
     "exception": false,
     "start_time": "2022-05-26T18:24:23.272013",
     "status": "completed"
    },
    "tags": []
   },
   "outputs": [],
   "source": [
    "attributes = df.columns.tolist()"
   ]
  },
  {
   "cell_type": "code",
   "execution_count": 11,
   "id": "9130d056",
   "metadata": {
    "execution": {
     "iopub.execute_input": "2022-05-26T18:24:23.433707Z",
     "iopub.status.busy": "2022-05-26T18:24:23.433509Z",
     "iopub.status.idle": "2022-05-26T18:24:27.105192Z",
     "shell.execute_reply": "2022-05-26T18:24:27.104432Z"
    },
    "papermill": {
     "duration": 3.728961,
     "end_time": "2022-05-26T18:24:27.107589",
     "exception": false,
     "start_time": "2022-05-26T18:24:23.378628",
     "status": "completed"
    },
    "tags": []
   },
   "outputs": [],
   "source": [
    "data = []\n",
    "for i in range(len(values)):\n",
    "    for value in values[i]:\n",
    "        data.append([str(value), attributes[i]])"
   ]
  },
  {
   "cell_type": "code",
   "execution_count": 12,
   "id": "c74db7ca",
   "metadata": {
    "execution": {
     "iopub.execute_input": "2022-05-26T18:24:27.208897Z",
     "iopub.status.busy": "2022-05-26T18:24:27.208675Z",
     "iopub.status.idle": "2022-05-26T18:24:27.579571Z",
     "shell.execute_reply": "2022-05-26T18:24:27.578834Z"
    },
    "papermill": {
     "duration": 0.423988,
     "end_time": "2022-05-26T18:24:27.581886",
     "exception": false,
     "start_time": "2022-05-26T18:24:27.157898",
     "status": "completed"
    },
    "tags": []
   },
   "outputs": [],
   "source": [
    "dfData = pd.DataFrame(data, columns=['Value','Label'])"
   ]
  },
  {
   "cell_type": "code",
   "execution_count": null,
   "id": "7a82b3cc",
   "metadata": {
    "execution": {
     "iopub.execute_input": "2022-05-23T08:29:38.281138Z",
     "iopub.status.busy": "2022-05-23T08:29:38.280828Z",
     "iopub.status.idle": "2022-05-23T08:29:45.80918Z",
     "shell.execute_reply": "2022-05-23T08:29:45.808224Z",
     "shell.execute_reply.started": "2022-05-23T08:29:38.281097Z"
    },
    "papermill": {
     "duration": 0.049502,
     "end_time": "2022-05-26T18:24:27.681632",
     "exception": false,
     "start_time": "2022-05-26T18:24:27.632130",
     "status": "completed"
    },
    "tags": []
   },
   "outputs": [],
   "source": []
  },
  {
   "cell_type": "code",
   "execution_count": 13,
   "id": "51432f5e",
   "metadata": {
    "execution": {
     "iopub.execute_input": "2022-05-26T18:24:27.782442Z",
     "iopub.status.busy": "2022-05-26T18:24:27.782175Z",
     "iopub.status.idle": "2022-05-26T18:24:28.076910Z",
     "shell.execute_reply": "2022-05-26T18:24:28.076186Z"
    },
    "papermill": {
     "duration": 0.347677,
     "end_time": "2022-05-26T18:24:28.079043",
     "exception": false,
     "start_time": "2022-05-26T18:24:27.731366",
     "status": "completed"
    },
    "tags": []
   },
   "outputs": [],
   "source": [
    "dfData['Label'] = dfData['Label'].astype('category')"
   ]
  },
  {
   "cell_type": "code",
   "execution_count": 14,
   "id": "823dd899",
   "metadata": {
    "execution": {
     "iopub.execute_input": "2022-05-26T18:24:28.180361Z",
     "iopub.status.busy": "2022-05-26T18:24:28.180147Z",
     "iopub.status.idle": "2022-05-26T18:24:28.185036Z",
     "shell.execute_reply": "2022-05-26T18:24:28.184397Z"
    },
    "papermill": {
     "duration": 0.057294,
     "end_time": "2022-05-26T18:24:28.186746",
     "exception": false,
     "start_time": "2022-05-26T18:24:28.129452",
     "status": "completed"
    },
    "tags": []
   },
   "outputs": [],
   "source": [
    "dfData[\"Label_Cat\"] = dfData[\"Label\"].cat.codes"
   ]
  },
  {
   "cell_type": "code",
   "execution_count": 15,
   "id": "e242fa5e",
   "metadata": {
    "execution": {
     "iopub.execute_input": "2022-05-26T18:24:28.288120Z",
     "iopub.status.busy": "2022-05-26T18:24:28.287895Z",
     "iopub.status.idle": "2022-05-26T18:24:28.291645Z",
     "shell.execute_reply": "2022-05-26T18:24:28.290976Z"
    },
    "papermill": {
     "duration": 0.056652,
     "end_time": "2022-05-26T18:24:28.293357",
     "exception": false,
     "start_time": "2022-05-26T18:24:28.236705",
     "status": "completed"
    },
    "tags": []
   },
   "outputs": [],
   "source": [
    "mapping = dict(enumerate(dfData['Label'].cat.categories))"
   ]
  },
  {
   "cell_type": "code",
   "execution_count": 16,
   "id": "6f9dca28",
   "metadata": {
    "execution": {
     "iopub.execute_input": "2022-05-26T18:24:28.394297Z",
     "iopub.status.busy": "2022-05-26T18:24:28.394105Z",
     "iopub.status.idle": "2022-05-26T18:24:28.398988Z",
     "shell.execute_reply": "2022-05-26T18:24:28.398366Z"
    },
    "papermill": {
     "duration": 0.056835,
     "end_time": "2022-05-26T18:24:28.400712",
     "exception": false,
     "start_time": "2022-05-26T18:24:28.343877",
     "status": "completed"
    },
    "tags": []
   },
   "outputs": [
    {
     "data": {
      "text/plain": [
       "{0: 'area_code',\n",
       " 1: 'child_exemp',\n",
       " 2: 'city',\n",
       " 3: 'f_name',\n",
       " 4: 'gender',\n",
       " 5: 'has_child',\n",
       " 6: 'l_name',\n",
       " 7: 'marital_status',\n",
       " 8: 'married_exemp',\n",
       " 9: 'phone',\n",
       " 10: 'rate',\n",
       " 11: 'salary',\n",
       " 12: 'single_exemp',\n",
       " 13: 'state',\n",
       " 14: 'zip'}"
      ]
     },
     "execution_count": 16,
     "metadata": {},
     "output_type": "execute_result"
    }
   ],
   "source": [
    "mapping"
   ]
  },
  {
   "cell_type": "code",
   "execution_count": 17,
   "id": "285dd20f",
   "metadata": {
    "execution": {
     "iopub.execute_input": "2022-05-26T18:24:28.503272Z",
     "iopub.status.busy": "2022-05-26T18:24:28.503078Z",
     "iopub.status.idle": "2022-05-26T18:24:28.550876Z",
     "shell.execute_reply": "2022-05-26T18:24:28.550201Z"
    },
    "papermill": {
     "duration": 0.100857,
     "end_time": "2022-05-26T18:24:28.552700",
     "exception": false,
     "start_time": "2022-05-26T18:24:28.451843",
     "status": "completed"
    },
    "tags": []
   },
   "outputs": [],
   "source": [
    "dfData.drop(['Label'], axis=1, inplace=True)"
   ]
  },
  {
   "cell_type": "code",
   "execution_count": 18,
   "id": "7212df3b",
   "metadata": {
    "execution": {
     "iopub.execute_input": "2022-05-26T18:24:28.654554Z",
     "iopub.status.busy": "2022-05-26T18:24:28.654218Z",
     "iopub.status.idle": "2022-05-26T18:24:28.665025Z",
     "shell.execute_reply": "2022-05-26T18:24:28.664306Z"
    },
    "papermill": {
     "duration": 0.063735,
     "end_time": "2022-05-26T18:24:28.666953",
     "exception": false,
     "start_time": "2022-05-26T18:24:28.603218",
     "status": "completed"
    },
    "tags": []
   },
   "outputs": [
    {
     "data": {
      "text/html": [
       "<div>\n",
       "<style scoped>\n",
       "    .dataframe tbody tr th:only-of-type {\n",
       "        vertical-align: middle;\n",
       "    }\n",
       "\n",
       "    .dataframe tbody tr th {\n",
       "        vertical-align: top;\n",
       "    }\n",
       "\n",
       "    .dataframe thead th {\n",
       "        text-align: right;\n",
       "    }\n",
       "</style>\n",
       "<table border=\"1\" class=\"dataframe\">\n",
       "  <thead>\n",
       "    <tr style=\"text-align: right;\">\n",
       "      <th></th>\n",
       "      <th>Value</th>\n",
       "      <th>Label_Cat</th>\n",
       "    </tr>\n",
       "  </thead>\n",
       "  <tbody>\n",
       "    <tr>\n",
       "      <th>0</th>\n",
       "      <td>pengyuan</td>\n",
       "      <td>3</td>\n",
       "    </tr>\n",
       "    <tr>\n",
       "      <th>1</th>\n",
       "      <td>nik</td>\n",
       "      <td>3</td>\n",
       "    </tr>\n",
       "    <tr>\n",
       "      <th>2</th>\n",
       "      <td>hovav</td>\n",
       "      <td>3</td>\n",
       "    </tr>\n",
       "    <tr>\n",
       "      <th>3</th>\n",
       "      <td>xiangning</td>\n",
       "      <td>3</td>\n",
       "    </tr>\n",
       "    <tr>\n",
       "      <th>4</th>\n",
       "      <td>belen</td>\n",
       "      <td>3</td>\n",
       "    </tr>\n",
       "  </tbody>\n",
       "</table>\n",
       "</div>"
      ],
      "text/plain": [
       "       Value  Label_Cat\n",
       "0   pengyuan          3\n",
       "1        nik          3\n",
       "2      hovav          3\n",
       "3  xiangning          3\n",
       "4      belen          3"
      ]
     },
     "execution_count": 18,
     "metadata": {},
     "output_type": "execute_result"
    }
   ],
   "source": [
    "dfData.head()"
   ]
  },
  {
   "cell_type": "code",
   "execution_count": 19,
   "id": "36b24525",
   "metadata": {
    "execution": {
     "iopub.execute_input": "2022-05-26T18:24:28.768628Z",
     "iopub.status.busy": "2022-05-26T18:24:28.768428Z",
     "iopub.status.idle": "2022-05-26T18:24:29.268836Z",
     "shell.execute_reply": "2022-05-26T18:24:29.268089Z"
    },
    "papermill": {
     "duration": 0.553547,
     "end_time": "2022-05-26T18:24:29.271025",
     "exception": false,
     "start_time": "2022-05-26T18:24:28.717478",
     "status": "completed"
    },
    "tags": []
   },
   "outputs": [],
   "source": [
    "dfData = dfData.sample(frac=1).reset_index(drop=True)"
   ]
  },
  {
   "cell_type": "code",
   "execution_count": 20,
   "id": "bcabec91",
   "metadata": {
    "execution": {
     "iopub.execute_input": "2022-05-26T18:24:29.374692Z",
     "iopub.status.busy": "2022-05-26T18:24:29.374483Z",
     "iopub.status.idle": "2022-05-26T18:24:31.561937Z",
     "shell.execute_reply": "2022-05-26T18:24:31.561192Z"
    },
    "papermill": {
     "duration": 2.241279,
     "end_time": "2022-05-26T18:24:31.564107",
     "exception": false,
     "start_time": "2022-05-26T18:24:29.322828",
     "status": "completed"
    },
    "tags": []
   },
   "outputs": [],
   "source": [
    "maxLength = dfData.Value.map(lambda x: len(str(x))).max()"
   ]
  },
  {
   "cell_type": "code",
   "execution_count": 21,
   "id": "a8e9f2f2",
   "metadata": {
    "execution": {
     "iopub.execute_input": "2022-05-26T18:24:31.666733Z",
     "iopub.status.busy": "2022-05-26T18:24:31.666336Z",
     "iopub.status.idle": "2022-05-26T18:24:31.793396Z",
     "shell.execute_reply": "2022-05-26T18:24:31.792581Z"
    },
    "papermill": {
     "duration": 0.180124,
     "end_time": "2022-05-26T18:24:31.795146",
     "exception": false,
     "start_time": "2022-05-26T18:24:31.615022",
     "status": "completed"
    },
    "tags": []
   },
   "outputs": [],
   "source": [
    "X = dfData['Value'].tolist()\n",
    "y = dfData['Label_Cat'].tolist()"
   ]
  },
  {
   "cell_type": "code",
   "execution_count": 22,
   "id": "88edb3dc",
   "metadata": {
    "execution": {
     "iopub.execute_input": "2022-05-26T18:24:31.898479Z",
     "iopub.status.busy": "2022-05-26T18:24:31.897873Z",
     "iopub.status.idle": "2022-05-26T18:24:32.567146Z",
     "shell.execute_reply": "2022-05-26T18:24:32.566331Z"
    },
    "papermill": {
     "duration": 0.723843,
     "end_time": "2022-05-26T18:24:32.569888",
     "exception": false,
     "start_time": "2022-05-26T18:24:31.846045",
     "status": "completed"
    },
    "tags": []
   },
   "outputs": [],
   "source": [
    "batchSize = 32\n",
    "maxSequenceLength = maxLength\n",
    "maxWords = 2 * sum(dfData.nunique())"
   ]
  },
  {
   "cell_type": "code",
   "execution_count": 23,
   "id": "3afd3e3c",
   "metadata": {
    "execution": {
     "iopub.execute_input": "2022-05-26T18:24:32.712774Z",
     "iopub.status.busy": "2022-05-26T18:24:32.712535Z",
     "iopub.status.idle": "2022-05-26T18:25:15.903495Z",
     "shell.execute_reply": "2022-05-26T18:25:15.902665Z"
    },
    "papermill": {
     "duration": 43.35136,
     "end_time": "2022-05-26T18:25:16.006036",
     "exception": false,
     "start_time": "2022-05-26T18:24:32.654676",
     "status": "completed"
    },
    "tags": []
   },
   "outputs": [
    {
     "name": "stdout",
     "output_type": "stream",
     "text": [
      "Found 89729 unique tokens.\n"
     ]
    }
   ],
   "source": [
    "tokenizer = Tokenizer(num_words=maxWords)\n",
    "tokenizer.fit_on_texts(X)\n",
    "sequences = tokenizer.texts_to_sequences(X)\n",
    "word_index = tokenizer.word_index\n",
    "print('Found %s unique tokens.' % len(word_index))"
   ]
  },
  {
   "cell_type": "code",
   "execution_count": 24,
   "id": "cb6591ac",
   "metadata": {
    "execution": {
     "iopub.execute_input": "2022-05-26T18:25:16.286177Z",
     "iopub.status.busy": "2022-05-26T18:25:16.285734Z",
     "iopub.status.idle": "2022-05-26T18:25:26.771191Z",
     "shell.execute_reply": "2022-05-26T18:25:26.770432Z"
    },
    "papermill": {
     "duration": 10.648386,
     "end_time": "2022-05-26T18:25:26.773673",
     "exception": false,
     "start_time": "2022-05-26T18:25:16.125287",
     "status": "completed"
    },
    "tags": []
   },
   "outputs": [],
   "source": [
    "data = pad_sequences(sequences, maxlen=maxSequenceLength)"
   ]
  },
  {
   "cell_type": "code",
   "execution_count": 25,
   "id": "7f4b9a68",
   "metadata": {
    "execution": {
     "iopub.execute_input": "2022-05-26T18:25:26.878369Z",
     "iopub.status.busy": "2022-05-26T18:25:26.878146Z",
     "iopub.status.idle": "2022-05-26T18:25:27.290716Z",
     "shell.execute_reply": "2022-05-26T18:25:27.288267Z"
    },
    "papermill": {
     "duration": 0.467088,
     "end_time": "2022-05-26T18:25:27.292999",
     "exception": false,
     "start_time": "2022-05-26T18:25:26.825911",
     "status": "completed"
    },
    "tags": []
   },
   "outputs": [],
   "source": [
    "labels = np.asarray(y)"
   ]
  },
  {
   "cell_type": "code",
   "execution_count": 26,
   "id": "3408a80c",
   "metadata": {
    "execution": {
     "iopub.execute_input": "2022-05-26T18:25:27.479048Z",
     "iopub.status.busy": "2022-05-26T18:25:27.478791Z",
     "iopub.status.idle": "2022-05-26T18:25:27.643732Z",
     "shell.execute_reply": "2022-05-26T18:25:27.642681Z"
    },
    "papermill": {
     "duration": 0.260123,
     "end_time": "2022-05-26T18:25:27.646350",
     "exception": false,
     "start_time": "2022-05-26T18:25:27.386227",
     "status": "completed"
    },
    "tags": []
   },
   "outputs": [],
   "source": [
    "labels = to_categorical(labels)"
   ]
  },
  {
   "cell_type": "code",
   "execution_count": 27,
   "id": "d276f35a",
   "metadata": {
    "execution": {
     "iopub.execute_input": "2022-05-26T18:25:27.765092Z",
     "iopub.status.busy": "2022-05-26T18:25:27.764857Z",
     "iopub.status.idle": "2022-05-26T18:25:27.775429Z",
     "shell.execute_reply": "2022-05-26T18:25:27.774241Z"
    },
    "papermill": {
     "duration": 0.064688,
     "end_time": "2022-05-26T18:25:27.777104",
     "exception": false,
     "start_time": "2022-05-26T18:25:27.712416",
     "status": "completed"
    },
    "tags": []
   },
   "outputs": [],
   "source": [
    "indices = np.arange(data.shape[0])"
   ]
  },
  {
   "cell_type": "code",
   "execution_count": 28,
   "id": "3cb83d4e",
   "metadata": {
    "execution": {
     "iopub.execute_input": "2022-05-26T18:25:27.881727Z",
     "iopub.status.busy": "2022-05-26T18:25:27.881521Z",
     "iopub.status.idle": "2022-05-26T18:25:28.088958Z",
     "shell.execute_reply": "2022-05-26T18:25:28.088202Z"
    },
    "papermill": {
     "duration": 0.261937,
     "end_time": "2022-05-26T18:25:28.091056",
     "exception": false,
     "start_time": "2022-05-26T18:25:27.829119",
     "status": "completed"
    },
    "tags": []
   },
   "outputs": [],
   "source": [
    "data = data[indices]\n",
    "labels = labels[indices]"
   ]
  },
  {
   "cell_type": "code",
   "execution_count": 29,
   "id": "b3d88f49",
   "metadata": {
    "execution": {
     "iopub.execute_input": "2022-05-26T18:25:28.195702Z",
     "iopub.status.busy": "2022-05-26T18:25:28.195484Z",
     "iopub.status.idle": "2022-05-26T18:26:24.210590Z",
     "shell.execute_reply": "2022-05-26T18:26:24.209811Z"
    },
    "papermill": {
     "duration": 56.069801,
     "end_time": "2022-05-26T18:26:24.213122",
     "exception": false,
     "start_time": "2022-05-26T18:25:28.143321",
     "status": "completed"
    },
    "tags": []
   },
   "outputs": [],
   "source": [
    "X_train, X_test, y_train, y_test = train_test_split(data, labels, test_size=0.2, random_state=22, stratify=labels)"
   ]
  },
  {
   "cell_type": "code",
   "execution_count": 30,
   "id": "cda969e9",
   "metadata": {
    "execution": {
     "iopub.execute_input": "2022-05-26T18:26:24.316106Z",
     "iopub.status.busy": "2022-05-26T18:26:24.315878Z",
     "iopub.status.idle": "2022-05-26T18:26:24.319306Z",
     "shell.execute_reply": "2022-05-26T18:26:24.318553Z"
    },
    "papermill": {
     "duration": 0.056805,
     "end_time": "2022-05-26T18:26:24.321224",
     "exception": false,
     "start_time": "2022-05-26T18:26:24.264419",
     "status": "completed"
    },
    "tags": []
   },
   "outputs": [],
   "source": [
    "embeddingDim = 100"
   ]
  },
  {
   "cell_type": "code",
   "execution_count": 31,
   "id": "d3b78abf",
   "metadata": {
    "execution": {
     "iopub.execute_input": "2022-05-26T18:26:24.424552Z",
     "iopub.status.busy": "2022-05-26T18:26:24.424351Z",
     "iopub.status.idle": "2022-05-26T18:26:27.111135Z",
     "shell.execute_reply": "2022-05-26T18:26:27.109072Z"
    },
    "papermill": {
     "duration": 2.740714,
     "end_time": "2022-05-26T18:26:27.113638",
     "exception": false,
     "start_time": "2022-05-26T18:26:24.372924",
     "status": "completed"
    },
    "tags": []
   },
   "outputs": [
    {
     "name": "stderr",
     "output_type": "stream",
     "text": [
      "2022-05-26 18:26:24.509464: I tensorflow/stream_executor/cuda/cuda_gpu_executor.cc:937] successful NUMA node read from SysFS had negative value (-1), but there must be at least one NUMA node, so returning NUMA node zero\n",
      "2022-05-26 18:26:24.611788: I tensorflow/stream_executor/cuda/cuda_gpu_executor.cc:937] successful NUMA node read from SysFS had negative value (-1), but there must be at least one NUMA node, so returning NUMA node zero\n",
      "2022-05-26 18:26:24.612636: I tensorflow/stream_executor/cuda/cuda_gpu_executor.cc:937] successful NUMA node read from SysFS had negative value (-1), but there must be at least one NUMA node, so returning NUMA node zero\n",
      "2022-05-26 18:26:24.613878: I tensorflow/core/platform/cpu_feature_guard.cc:142] This TensorFlow binary is optimized with oneAPI Deep Neural Network Library (oneDNN) to use the following CPU instructions in performance-critical operations:  AVX2 AVX512F FMA\n",
      "To enable them in other operations, rebuild TensorFlow with the appropriate compiler flags.\n",
      "2022-05-26 18:26:24.614179: I tensorflow/stream_executor/cuda/cuda_gpu_executor.cc:937] successful NUMA node read from SysFS had negative value (-1), but there must be at least one NUMA node, so returning NUMA node zero\n",
      "2022-05-26 18:26:24.614910: I tensorflow/stream_executor/cuda/cuda_gpu_executor.cc:937] successful NUMA node read from SysFS had negative value (-1), but there must be at least one NUMA node, so returning NUMA node zero\n",
      "2022-05-26 18:26:24.615628: I tensorflow/stream_executor/cuda/cuda_gpu_executor.cc:937] successful NUMA node read from SysFS had negative value (-1), but there must be at least one NUMA node, so returning NUMA node zero\n",
      "2022-05-26 18:26:26.716887: I tensorflow/stream_executor/cuda/cuda_gpu_executor.cc:937] successful NUMA node read from SysFS had negative value (-1), but there must be at least one NUMA node, so returning NUMA node zero\n",
      "2022-05-26 18:26:26.717782: I tensorflow/stream_executor/cuda/cuda_gpu_executor.cc:937] successful NUMA node read from SysFS had negative value (-1), but there must be at least one NUMA node, so returning NUMA node zero\n",
      "2022-05-26 18:26:26.718453: I tensorflow/stream_executor/cuda/cuda_gpu_executor.cc:937] successful NUMA node read from SysFS had negative value (-1), but there must be at least one NUMA node, so returning NUMA node zero\n",
      "2022-05-26 18:26:26.719904: I tensorflow/core/common_runtime/gpu/gpu_device.cc:1510] Created device /job:localhost/replica:0/task:0/device:GPU:0 with 15403 MB memory:  -> device: 0, name: Tesla P100-PCIE-16GB, pci bus id: 0000:00:04.0, compute capability: 6.0\n"
     ]
    }
   ],
   "source": [
    "model = models.Sequential()\n",
    "model.add(layers.Embedding(maxWords, embeddingDim, input_length=maxSequenceLength))\n",
    "model.add(layers.Flatten())\n",
    "model.add(layers.Dense(32, activation=activations.relu))\n",
    "model.add(layers.Dense(64, activation=activations.relu))\n",
    "model.add(layers.Dense(labels.shape[1], activation=activations.softmax))\n",
    "\n",
    "model.compile(optimizer=optimizers.Adam(), loss=losses.categorical_crossentropy, metrics=['accuracy'])"
   ]
  },
  {
   "cell_type": "code",
   "execution_count": 32,
   "id": "0180665f",
   "metadata": {
    "execution": {
     "iopub.execute_input": "2022-05-26T18:26:27.227593Z",
     "iopub.status.busy": "2022-05-26T18:26:27.227339Z",
     "iopub.status.idle": "2022-05-26T18:26:27.234708Z",
     "shell.execute_reply": "2022-05-26T18:26:27.233890Z"
    },
    "papermill": {
     "duration": 0.065976,
     "end_time": "2022-05-26T18:26:27.237741",
     "exception": false,
     "start_time": "2022-05-26T18:26:27.171765",
     "status": "completed"
    },
    "tags": []
   },
   "outputs": [
    {
     "name": "stdout",
     "output_type": "stream",
     "text": [
      "Model: \"sequential\"\n",
      "_________________________________________________________________\n",
      "Layer (type)                 Output Shape              Param #   \n",
      "=================================================================\n",
      "embedding (Embedding)        (None, 27, 100)           56496200  \n",
      "_________________________________________________________________\n",
      "flatten (Flatten)            (None, 2700)              0         \n",
      "_________________________________________________________________\n",
      "dense (Dense)                (None, 32)                86432     \n",
      "_________________________________________________________________\n",
      "dense_1 (Dense)              (None, 64)                2112      \n",
      "_________________________________________________________________\n",
      "dense_2 (Dense)              (None, 15)                975       \n",
      "=================================================================\n",
      "Total params: 56,585,719\n",
      "Trainable params: 56,585,719\n",
      "Non-trainable params: 0\n",
      "_________________________________________________________________\n"
     ]
    }
   ],
   "source": [
    "model.summary()"
   ]
  },
  {
   "cell_type": "code",
   "execution_count": 33,
   "id": "2880690a",
   "metadata": {
    "execution": {
     "iopub.execute_input": "2022-05-26T18:26:27.343700Z",
     "iopub.status.busy": "2022-05-26T18:26:27.343454Z",
     "iopub.status.idle": "2022-05-26T18:27:39.458171Z",
     "shell.execute_reply": "2022-05-26T18:27:39.456241Z"
    },
    "papermill": {
     "duration": 72.170167,
     "end_time": "2022-05-26T18:27:39.460949",
     "exception": false,
     "start_time": "2022-05-26T18:26:27.290782",
     "status": "completed"
    },
    "tags": []
   },
   "outputs": [
    {
     "name": "stderr",
     "output_type": "stream",
     "text": [
      "2022-05-26 18:26:27.798486: I tensorflow/compiler/mlir/mlir_graph_optimization_pass.cc:185] None of the MLIR Optimization Passes are enabled (registered 2)\n"
     ]
    },
    {
     "name": "stdout",
     "output_type": "stream",
     "text": [
      "4215/4215 [==============================] - 72s 17ms/step - loss: 0.4578 - accuracy: 0.7908 - val_loss: 0.3223 - val_accuracy: 0.8282\n"
     ]
    }
   ],
   "source": [
    "history = model.fit(X_train, y_train,\n",
    "                    epochs=1,\n",
    "                    batch_size=512, \n",
    "                    validation_split=0.1)"
   ]
  },
  {
   "cell_type": "code",
   "execution_count": 34,
   "id": "737e66f0",
   "metadata": {
    "execution": {
     "iopub.execute_input": "2022-05-26T18:27:40.243144Z",
     "iopub.status.busy": "2022-05-26T18:27:40.242889Z",
     "iopub.status.idle": "2022-05-26T18:27:40.666856Z",
     "shell.execute_reply": "2022-05-26T18:27:40.666076Z"
    },
    "papermill": {
     "duration": 0.810879,
     "end_time": "2022-05-26T18:27:40.668788",
     "exception": false,
     "start_time": "2022-05-26T18:27:39.857909",
     "status": "completed"
    },
    "tags": []
   },
   "outputs": [
    {
     "data": {
      "image/png": "[encoded data removed]",
      "text/plain": [
       "<Figure size 432x288 with 1 Axes>"
      ]
     },
     "metadata": {
      "needs_background": "light"
     },
     "output_type": "display_data"
    },
    {
     "data": {
      "image/png": "[encoded data removed]",
      "text/plain": [
       "<Figure size 432x288 with 1 Axes>"
      ]
     },
     "metadata": {
      "needs_background": "light"
     },
     "output_type": "display_data"
    }
   ],
   "source": [
    "acc = history.history['accuracy']\n",
    "val_acc = history.history['val_accuracy']\n",
    "\n",
    "loss = history.history['loss']\n",
    "val_loss = history.history['val_loss']\n",
    "\n",
    "epochs = range(1, len(acc) + 1)\n",
    "plt.plot(epochs, acc, 'bo', label='Training acc')\n",
    "plt.plot(epochs, val_acc, 'b', label='Validation acc')\n",
    "plt.title('Training and validation accuracy')\n",
    "plt.xlabel(\"Epochs\")\n",
    "plt.ylabel(\"Accuracy\")\n",
    "plt.legend()\n",
    "\n",
    "plt.figure()\n",
    "\n",
    "plt.plot(epochs, loss, 'bo', label='Training loss')\n",
    "plt.plot(epochs, val_loss, 'b', label='Validation loss')\n",
    "plt.title('Training and validation loss')\n",
    "plt.xlabel(\"Epochs\")\n",
    "plt.ylabel(\"Loss\")\n",
    "plt.legend()\n",
    "plt.show();"
   ]
  },
  {
   "cell_type": "code",
   "execution_count": 35,
   "id": "4d050984",
   "metadata": {
    "execution": {
     "iopub.execute_input": "2022-05-26T18:27:41.495073Z",
     "iopub.status.busy": "2022-05-26T18:27:41.494820Z",
     "iopub.status.idle": "2022-05-26T18:28:17.514011Z",
     "shell.execute_reply": "2022-05-26T18:28:17.513322Z"
    },
    "papermill": {
     "duration": 36.429577,
     "end_time": "2022-05-26T18:28:17.515856",
     "exception": false,
     "start_time": "2022-05-26T18:27:41.086279",
     "status": "completed"
    },
    "tags": []
   },
   "outputs": [
    {
     "name": "stdout",
     "output_type": "stream",
     "text": [
      "18731/18731 [==============================] - 36s 2ms/step - loss: 0.3220 - accuracy: 0.8274\n"
     ]
    }
   ],
   "source": [
    "results = model.evaluate(X_test, y_test)"
   ]
  },
  {
   "cell_type": "code",
   "execution_count": 36,
   "id": "f6a65cd0",
   "metadata": {
    "execution": {
     "iopub.execute_input": "2022-05-26T18:28:18.718524Z",
     "iopub.status.busy": "2022-05-26T18:28:18.718227Z",
     "iopub.status.idle": "2022-05-26T18:28:18.722164Z",
     "shell.execute_reply": "2022-05-26T18:28:18.721446Z"
    },
    "papermill": {
     "duration": 0.609309,
     "end_time": "2022-05-26T18:28:18.723989",
     "exception": false,
     "start_time": "2022-05-26T18:28:18.114680",
     "status": "completed"
    },
    "tags": []
   },
   "outputs": [],
   "source": [
    "loss = results[0]\n",
    "accuracy = results[1]"
   ]
  },
  {
   "cell_type": "code",
   "execution_count": 37,
   "id": "5722fce7",
   "metadata": {
    "execution": {
     "iopub.execute_input": "2022-05-26T18:28:19.998855Z",
     "iopub.status.busy": "2022-05-26T18:28:19.998151Z",
     "iopub.status.idle": "2022-05-26T18:28:20.004762Z",
     "shell.execute_reply": "2022-05-26T18:28:20.004050Z"
    },
    "papermill": {
     "duration": 0.627043,
     "end_time": "2022-05-26T18:28:20.006370",
     "exception": false,
     "start_time": "2022-05-26T18:28:19.379327",
     "status": "completed"
    },
    "tags": []
   },
   "outputs": [
    {
     "data": {
      "text/plain": [
       "0.8274155855178833"
      ]
     },
     "execution_count": 37,
     "metadata": {},
     "output_type": "execute_result"
    }
   ],
   "source": [
    "accuracy"
   ]
  },
  {
   "cell_type": "code",
   "execution_count": 38,
   "id": "625b50d5",
   "metadata": {
    "execution": {
     "iopub.execute_input": "2022-05-26T18:28:21.242563Z",
     "iopub.status.busy": "2022-05-26T18:28:21.241842Z",
     "iopub.status.idle": "2022-05-26T18:28:22.551272Z",
     "shell.execute_reply": "2022-05-26T18:28:22.550535Z"
    },
    "papermill": {
     "duration": 1.91216,
     "end_time": "2022-05-26T18:28:22.553335",
     "exception": false,
     "start_time": "2022-05-26T18:28:20.641175",
     "status": "completed"
    },
    "tags": []
   },
   "outputs": [],
   "source": [
    "model.save( 'kaggle/working/taxiMultiAttributeClassifier.h5')"
   ]
  },
  {
   "cell_type": "code",
   "execution_count": 39,
   "id": "3ae45d02",
   "metadata": {
    "execution": {
     "iopub.execute_input": "2022-05-26T18:28:24.060525Z",
     "iopub.status.busy": "2022-05-26T18:28:24.060228Z",
     "iopub.status.idle": "2022-05-26T18:28:24.167524Z",
     "shell.execute_reply": "2022-05-26T18:28:24.166584Z"
    },
    "papermill": {
     "duration": 0.970029,
     "end_time": "2022-05-26T18:28:24.169841",
     "exception": false,
     "start_time": "2022-05-26T18:28:23.199812",
     "status": "completed"
    },
    "tags": []
   },
   "outputs": [],
   "source": [
    "with open('taxiMultiAttributeClassifierTokenizer.pickle', 'wb') as handle:\n",
    "    pickle.dump(tokenizer, handle, protocol=pickle.HIGHEST_PROTOCOL, fix_imports=True)"
   ]
  },
  {
   "cell_type": "code",
   "execution_count": 40,
   "id": "ca6d33f0",
   "metadata": {
    "execution": {
     "iopub.execute_input": "2022-05-26T18:28:25.529759Z",
     "iopub.status.busy": "2022-05-26T18:28:25.529354Z",
     "iopub.status.idle": "2022-05-26T18:28:26.993781Z",
     "shell.execute_reply": "2022-05-26T18:28:26.993039Z"
    },
    "papermill": {
     "duration": 2.127733,
     "end_time": "2022-05-26T18:28:26.996179",
     "exception": false,
     "start_time": "2022-05-26T18:28:24.868446",
     "status": "completed"
    },
    "tags": []
   },
   "outputs": [],
   "source": [
    "model = load_model('kaggle/working/taxiMultiAttributeClassifier.h5')"
   ]
  },
  {
   "cell_type": "code",
   "execution_count": null,
   "id": "7952dfc3",
   "metadata": {
    "papermill": {
     "duration": 0.659817,
     "end_time": "2022-05-26T18:28:28.262227",
     "exception": false,
     "start_time": "2022-05-26T18:28:27.602410",
     "status": "completed"
    },
    "tags": []
   },
   "outputs": [],
   "source": []
  },
  {
   "cell_type": "code",
   "execution_count": 41,
   "id": "009ad5ec",
   "metadata": {
    "execution": {
     "iopub.execute_input": "2022-05-26T18:28:29.802986Z",
     "iopub.status.busy": "2022-05-26T18:28:29.802706Z",
     "iopub.status.idle": "2022-05-26T18:28:29.919742Z",
     "shell.execute_reply": "2022-05-26T18:28:29.918877Z"
    },
    "papermill": {
     "duration": 0.725989,
     "end_time": "2022-05-26T18:28:29.921628",
     "exception": false,
     "start_time": "2022-05-26T18:28:29.195639",
     "status": "completed"
    },
    "tags": []
   },
   "outputs": [],
   "source": [
    "with open('taxiMultiAttributeClassifierTokenizer.pickle', 'rb') as handle:\n",
    "    tokenizer = pickle.load(handle)"
   ]
  },
  {
   "cell_type": "code",
   "execution_count": 42,
   "id": "e1c599b5",
   "metadata": {
    "execution": {
     "iopub.execute_input": "2022-05-26T18:28:31.135465Z",
     "iopub.status.busy": "2022-05-26T18:28:31.135190Z",
     "iopub.status.idle": "2022-05-26T18:28:31.138615Z",
     "shell.execute_reply": "2022-05-26T18:28:31.137915Z"
    },
    "papermill": {
     "duration": 0.602878,
     "end_time": "2022-05-26T18:28:31.140336",
     "exception": false,
     "start_time": "2022-05-26T18:28:30.537458",
     "status": "completed"
    },
    "tags": []
   },
   "outputs": [],
   "source": [
    "testString = ['Leif']"
   ]
  },
  {
   "cell_type": "code",
   "execution_count": 43,
   "id": "7e117583",
   "metadata": {
    "execution": {
     "iopub.execute_input": "2022-05-26T18:28:32.356591Z",
     "iopub.status.busy": "2022-05-26T18:28:32.356283Z",
     "iopub.status.idle": "2022-05-26T18:28:32.530353Z",
     "shell.execute_reply": "2022-05-26T18:28:32.529638Z"
    },
    "papermill": {
     "duration": 0.79337,
     "end_time": "2022-05-26T18:28:32.532204",
     "exception": false,
     "start_time": "2022-05-26T18:28:31.738834",
     "status": "completed"
    },
    "tags": []
   },
   "outputs": [],
   "source": [
    "sequences = tokenizer.texts_to_sequences(testString)\n",
    "testData = pad_sequences(sequences, maxlen=maxLength)"
   ]
  },
  {
   "cell_type": "code",
   "execution_count": 44,
   "id": "e2f45825",
   "metadata": {
    "execution": {
     "iopub.execute_input": "2022-05-26T18:28:34.176649Z",
     "iopub.status.busy": "2022-05-26T18:28:34.176279Z",
     "iopub.status.idle": "2022-05-26T18:28:34.472626Z",
     "shell.execute_reply": "2022-05-26T18:28:34.471873Z"
    },
    "papermill": {
     "duration": 1.299828,
     "end_time": "2022-05-26T18:28:34.477665",
     "exception": false,
     "start_time": "2022-05-26T18:28:33.177837",
     "status": "completed"
    },
    "tags": []
   },
   "outputs": [],
   "source": [
    "predictions = model.predict(testData)"
   ]
  },
  {
   "cell_type": "code",
   "execution_count": 45,
   "id": "ca7884a0",
   "metadata": {
    "execution": {
     "iopub.execute_input": "2022-05-26T18:28:35.905944Z",
     "iopub.status.busy": "2022-05-26T18:28:35.905692Z",
     "iopub.status.idle": "2022-05-26T18:28:35.911524Z",
     "shell.execute_reply": "2022-05-26T18:28:35.910747Z"
    },
    "papermill": {
     "duration": 0.612525,
     "end_time": "2022-05-26T18:28:35.914235",
     "exception": false,
     "start_time": "2022-05-26T18:28:35.301710",
     "status": "completed"
    },
    "tags": []
   },
   "outputs": [
    {
     "data": {
      "text/plain": [
       "array([[2.7616536e-05, 1.7831313e-10, 3.3279974e-03, 9.9366790e-01,\n",
       "        1.2415417e-05, 5.4437129e-07, 5.5832177e-05, 5.7670547e-07,\n",
       "        4.7913690e-10, 9.1645724e-10, 1.0737517e-11, 4.9168540e-07,\n",
       "        6.3462735e-10, 2.0241457e-04, 2.7042355e-03]], dtype=float32)"
      ]
     },
     "execution_count": 45,
     "metadata": {},
     "output_type": "execute_result"
    }
   ],
   "source": [
    "predictions"
   ]
  },
  {
   "cell_type": "code",
   "execution_count": 46,
   "id": "372fd115",
   "metadata": {
    "execution": {
     "iopub.execute_input": "2022-05-26T18:28:37.158141Z",
     "iopub.status.busy": "2022-05-26T18:28:37.157573Z",
     "iopub.status.idle": "2022-05-26T18:28:37.164075Z",
     "shell.execute_reply": "2022-05-26T18:28:37.163289Z"
    },
    "papermill": {
     "duration": 0.641862,
     "end_time": "2022-05-26T18:28:37.165878",
     "exception": false,
     "start_time": "2022-05-26T18:28:36.524016",
     "status": "completed"
    },
    "tags": []
   },
   "outputs": [
    {
     "data": {
      "text/plain": [
       "'f_name'"
      ]
     },
     "execution_count": 46,
     "metadata": {},
     "output_type": "execute_result"
    }
   ],
   "source": [
    "mapping[np.argmax(predictions[0])]"
   ]
  }
 ],
 "metadata": {
  "kernelspec": {
   "display_name": "Python 3",
   "language": "python",
   "name": "python3"
  },
  "language_info": {
   "codemirror_mode": {
    "name": "ipython",
    "version": 3
   },
   "file_extension": ".py",
   "mimetype": "text/x-python",
   "name": "python",
   "nbconvert_exporter": "python",
   "pygments_lexer": "ipython3",
   "version": "3.7.12"
  },
  "papermill": {
   "default_parameters": {},
   "duration": 292.740433,
   "end_time": "2022-05-26T18:28:41.674217",
   "environment_variables": {},
   "exception": null,
   "input_path": "__notebook__.ipynb",
   "output_path": "__notebook__.ipynb",
   "parameters": {},
   "start_time": "2022-05-26T18:23:48.933784",
   "version": "2.3.4"
  }
 },
 "nbformat": 4,
 "nbformat_minor": 5
}
